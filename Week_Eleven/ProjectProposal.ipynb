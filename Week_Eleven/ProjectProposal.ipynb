{
 "cells": [
  {
   "cell_type": "markdown",
   "id": "f436f779-2d55-48c0-9101-f2b55792de16",
   "metadata": {},
   "source": [
    "# Final Project Proposal CSCI-1070 \n",
    "\n",
    "*  Are you working alone or with someone else?\n",
    "* * I will be working with Aida Bah. We plan to spend every Tuesday and Thursday working on this project until it is due. We will set aisde a couple hours each time we meet to work on the project.\n",
    "\n",
    "* What dataset are you using?\n",
    "* * The housing prices dataset on Kaggle. https://www.kaggle.com/datasets/yasserh/housing-prices-dataset\n",
    "\n",
    "* What is your starting hypothesis about the data?\n",
    "* * Null hypothesis: For the Kaggle Housing Prices dataset there will be no significant difference in house sale prices based on various features like number of bedrooms, number of bathrooms, area, square footage, etc.\n",
    "  * Alternative Hypothesis: For the Kaggle Housing Prices dataset there will be a significant difference in house sale prices based on the various features like number of bedrooms, number of bathrooms, area, square footage, etc.\n",
    "\n",
    "* What models do you plan to start with first?\n",
    "* * Linear regressions, and then sub types of linear regression like lasso regression and ridge regression. I will also be using decision trees for this project. And also to improve prediction accuracy and to reduce overfitting I'll use random forest.  \n",
    " \n",
    "  "
   ]
  },
  {
   "cell_type": "code",
   "execution_count": null,
   "id": "be779fe6-0b7d-4dbe-b45e-a19a33a8b188",
   "metadata": {},
   "outputs": [],
   "source": []
  }
 ],
 "metadata": {
  "kernelspec": {
   "display_name": "Python 3 (ipykernel)",
   "language": "python",
   "name": "python3"
  },
  "language_info": {
   "codemirror_mode": {
    "name": "ipython",
    "version": 3
   },
   "file_extension": ".py",
   "mimetype": "text/x-python",
   "name": "python",
   "nbconvert_exporter": "python",
   "pygments_lexer": "ipython3",
   "version": "3.12.2"
  }
 },
 "nbformat": 4,
 "nbformat_minor": 5
}
