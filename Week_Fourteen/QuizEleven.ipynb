{
 "cells": [
  {
   "cell_type": "markdown",
   "metadata": {},
   "source": [
    "# Quiz 12 "
   ]
  },
  {
   "cell_type": "code",
   "execution_count": 6,
   "metadata": {},
   "outputs": [
    {
     "name": "stdout",
     "output_type": "stream",
     "text": [
      "Using SGD optimizer:\n",
      "Epoch [100/1000], Loss: 3354.8347\n",
      "Epoch [200/1000], Loss: 2906.4897\n",
      "Epoch [300/1000], Loss: 2896.8118\n",
      "Epoch [400/1000], Loss: 2895.5522\n",
      "Epoch [500/1000], Loss: 2894.5525\n",
      "Epoch [600/1000], Loss: 2893.6023\n",
      "Epoch [700/1000], Loss: 2892.6892\n",
      "Epoch [800/1000], Loss: 2891.8103\n",
      "Epoch [900/1000], Loss: 2890.9646\n",
      "Epoch [1000/1000], Loss: 2890.1499\n",
      "Mean Squared Error: 2885.4773\n",
      "\n",
      "Using Adam optimizer:\n",
      "Epoch [100/1000], Loss: 2888.7478\n",
      "Epoch [200/1000], Loss: 2887.4985\n",
      "Epoch [300/1000], Loss: 2886.3208\n",
      "Epoch [400/1000], Loss: 2885.2043\n",
      "Epoch [500/1000], Loss: 2884.1445\n",
      "Epoch [600/1000], Loss: 2883.1370\n",
      "Epoch [700/1000], Loss: 2882.1799\n",
      "Epoch [800/1000], Loss: 2881.2710\n",
      "Epoch [900/1000], Loss: 2880.4070\n",
      "Epoch [1000/1000], Loss: 2879.5867\n",
      "Mean Squared Error: 2881.6074\n"
     ]
    }
   ],
   "source": [
    "import torch\n",
    "import torch.nn as nn\n",
    "import torch.optim as optim\n",
    "from sklearn.datasets import load_diabetes\n",
    "from sklearn.model_selection import train_test_split\n",
    "from sklearn.preprocessing import StandardScaler\n",
    "from sklearn.metrics import mean_squared_error\n",
    "\n",
    "diabetes = load_diabetes()\n",
    "X, y = diabetes.data, diabetes.target\n",
    "X_train, X_test, y_train, y_test = train_test_split(X, y, test_size=0.2, random_state=42)\n",
    "\n",
    "scaler = StandardScaler()\n",
    "X_train = scaler.fit_transform(X_train)\n",
    "X_test = scaler.transform(X_test)\n",
    "\n",
    "X_train_tensor = torch.tensor(X_train, dtype=torch.float32)\n",
    "X_test_tensor = torch.tensor(X_test, dtype=torch.float32)\n",
    "y_train_tensor = torch.tensor(y_train, dtype=torch.float32).view(-1, 1)\n",
    "y_test_tensor = torch.tensor(y_test, dtype=torch.float32).view(-1, 1)\n",
    "\n",
    "class DiabetesModel(nn.Module):\n",
    "    def __init__(self, input_size):\n",
    "        super(DiabetesModel, self).__init__()\n",
    "        self.linear = nn.Linear(input_size, 1)\n",
    "    \n",
    "    def forward(self, x):\n",
    "        return self.linear(x)\n",
    "\n",
    "def train_and_evaluate_model(model, optimizer, criterion, X_train, y_train, X_test, y_test, epochs=1000):\n",
    "    for epoch in range(epochs):\n",
    "        outputs = model(X_train)\n",
    "        loss = criterion(outputs, y_train)\n",
    "        \n",
    "        optimizer.zero_grad()\n",
    "        loss.backward()\n",
    "        optimizer.step()\n",
    "        \n",
    "        if (epoch+1) % 100 == 0:\n",
    "            print(f'Epoch [{epoch+1}/{epochs}], Loss: {loss.item():.4f}')\n",
    "    \n",
    "    model.eval()\n",
    "    with torch.no_grad():\n",
    "        y_pred = model(X_test)\n",
    "        mse = mean_squared_error(y_test, y_pred.numpy())\n",
    "        print(f'Mean Squared Error: {mse:.4f}')\n",
    "\n",
    "input_size = X_train.shape[1]\n",
    "model = DiabetesModel(input_size)\n",
    "criterion = nn.MSELoss()\n",
    "\n",
    "optimizer = optim.SGD(model.parameters(), lr=0.01)\n",
    "\n",
    "print(\"Using SGD optimizer:\")\n",
    "train_and_evaluate_model(model, optimizer, criterion, X_train_tensor, y_train_tensor, X_test_tensor, y_test_tensor)\n",
    "\n",
    "print(\"\\nUsing Adam optimizer:\")\n",
    "optimizer = optim.Adam(model.parameters(), lr=0.01)\n",
    "train_and_evaluate_model(model, optimizer, criterion, X_train_tensor, y_train_tensor, X_test_tensor, y_test_tensor)\n"
   ]
  },
  {
   "cell_type": "markdown",
   "metadata": {},
   "source": [
    "* the Adam optimizer performs much better than the SGD optimizer. i can tell this based off of the mean-squared error for the Adam optimizer being lower than the mean-squared error for the SGD optimizer. \n",
    "* the Adam optimizer works to minimize the loss function during training of neural networks by considering the moving average of the first and second-order movements of its gradient. "
   ]
  },
  {
   "cell_type": "markdown",
   "metadata": {},
   "source": [
    "# Extra Credit Question (2 pts) "
   ]
  },
  {
   "cell_type": "code",
   "execution_count": 7,
   "metadata": {},
   "outputs": [
    {
     "name": "stdout",
     "output_type": "stream",
     "text": [
      "There are 2 divisors: 1, 5\n",
      "There are 8 divisors: 1, 2, 4, 5, 8, 10, 20, 40\n"
     ]
    }
   ],
   "source": [
    "def count_divisors(n: int) -> str:\n",
    "    \"\"\"\n",
    "    Count the number of divisors for an input value.\n",
    "\n",
    "    Args:\n",
    "    n (int): Input value.\n",
    "\n",
    "    Returns:\n",
    "    str: A string indicating the number of divisors and the divisors themselves.\n",
    "    \"\"\"\n",
    "    divisors = [str(i) for i in range(1, n + 1) if n % i == 0]\n",
    "    divisor_count = len(divisors)\n",
    "    divisors_str = \", \".join(divisors)\n",
    "    return f\"There are {divisor_count} divisors: {divisors_str}\"\n",
    "\n",
    "# testing the function\n",
    "print(count_divisors(5))  # Output: “There are 2 divisors: 1 and 5”\n",
    "print(count_divisors(40))  # Output: “There are 8 divisors: 1, 2, 4, 5, 8, 10, 20, and 40”\n"
   ]
  },
  {
   "cell_type": "code",
   "execution_count": null,
   "metadata": {},
   "outputs": [],
   "source": []
  }
 ],
 "metadata": {
  "kernelspec": {
   "display_name": "Python 3",
   "language": "python",
   "name": "python3"
  },
  "language_info": {
   "codemirror_mode": {
    "name": "ipython",
    "version": 3
   },
   "file_extension": ".py",
   "mimetype": "text/x-python",
   "name": "python",
   "nbconvert_exporter": "python",
   "pygments_lexer": "ipython3",
   "version": "3.10.13"
  }
 },
 "nbformat": 4,
 "nbformat_minor": 2
}
