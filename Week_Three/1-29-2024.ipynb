{
 "cells": [
  {
   "cell_type": "markdown",
   "id": "7d8690c8-0e43-42d7-9448-db845099accc",
   "metadata": {},
   "source": [
    "#Scope (LEGB) Rule\n",
    "Local - only available to other codes in this scope. A function, for example, only has access to the names defined in that function or passed into it via arguments\n",
    "Enclosing - only exists in nested functions. Inner nests can have access to the names in outer nests \n",
    "Global - Available to all your code and can pass thru modules, classes, etc. \n",
    "Built in- all names that are created by Pyhton when u run a script\n",
    "\n",
    "what does being aware of ur scope help do and avoid? \n",
    "- can help us avoid name collision (we dont want to use a name that is already a built-in) \n"
   ]
  },
  {
   "cell_type": "markdown",
   "id": "a5c9144d-1c66-465d-8601-a8082bc2a952",
   "metadata": {},
   "source": [
    "# Constructor \n",
    "_init_ (_is dunder) \n",
    "SELF is a default variable that contains the memory address of the current code you are working in. "
   ]
  },
  {
   "cell_type": "code",
   "execution_count": 6,
   "id": "699e63e9-4d99-4a9a-8d9a-20ef2b9557a0",
   "metadata": {},
   "outputs": [
    {
     "name": "stdout",
     "output_type": "stream",
     "text": [
      "0\n"
     ]
    }
   ],
   "source": [
    "class a_sample_class:\n",
    "    def __init__(self):\n",
    "        self.vars = 0 \n",
    "\n",
    "    def print_vars(self):\n",
    "        print(self.vars)\n",
    "\n",
    "obj = a_sample_class()\n",
    "obj.print_vars()\n",
    "    \n",
    "    \n"
   ]
  },
  {
   "cell_type": "code",
   "execution_count": 7,
   "id": "c708c11c-a59b-4efc-8938-0325b9c9286f",
   "metadata": {},
   "outputs": [
    {
     "name": "stdout",
     "output_type": "stream",
     "text": [
      "2\n"
     ]
    }
   ],
   "source": [
    "class a_sample_class:\n",
    "    #default/basic constructor\n",
    "    def __init__(self,one,two):\n",
    "        self.first = one\n",
    "\n",
    "    def print_vars(self):\n",
    "        print(self.first)\n",
    "\n",
    "obj = a_sample_class(2,8)\n",
    "obj.print_vars()\n",
    "\n"
   ]
  },
  {
   "cell_type": "code",
   "execution_count": 11,
   "id": "154d2fff-f937-4feb-bbf3-312b73870d72",
   "metadata": {},
   "outputs": [
    {
     "name": "stdout",
     "output_type": "stream",
     "text": [
      "17\n"
     ]
    }
   ],
   "source": [
    "class a_sample_class:\n",
    "    def __init__(self,one,two):\n",
    "        self.first = one\n",
    "        self.second = two \n",
    "obj = a_sample_class(17,42)\n",
    "\n",
    "print(obj.first)\n",
    "#print(obj.class_attr)\n",
    "#print(a_sample_class.first)\n",
    "#print(a_sample_class.class_attr)"
   ]
  },
  {
   "cell_type": "markdown",
   "id": "6b3953e0-38ef-49fe-acdb-1c714e45aaf9",
   "metadata": {},
   "source": [
    "# Classes\n",
    "Three types: class methods, static methods, and instance methods \n",
    "- Need to create an object to call Non static methods\n",
    "- Class methods : Can modify class state, cant modify object state, used for factory functions\n",
    "- Static Method : Cant access class state, cant access object state, used for utility functions\n",
    "- Instance method : Can modify class state, can modify object state "
   ]
  },
  {
   "cell_type": "markdown",
   "id": "ff157f1b-bcf2-4c1a-b765-abcbffc69a1e",
   "metadata": {},
   "source": [
    "# Instance attributes and Class Attributes\n",
    "2 scopes for attributes\n",
    "instance attribute = a variable that belongs to a specific instance or instantiation. Defined inside the constructor (init). Can access from the scope of an object (local) \n",
    "\n",
    "Class attribute = type of variable that belongs to the class itself. Defined outside the constructor. Similar to static attributes in Java (not exactly the same). Both a property of the class AND a property of the object. We can mutate a class attribute to be an instance attribute. "
   ]
  },
  {
   "cell_type": "code",
   "execution_count": 13,
   "id": "62e30e2f-547f-4bf8-8e04-800e33802700",
   "metadata": {},
   "outputs": [
    {
     "data": {
      "text/plain": [
       "{'__name__': '__main__',\n",
       " '__doc__': 'Automatically created module for IPython interactive environment',\n",
       " '__package__': None,\n",
       " '__loader__': None,\n",
       " '__spec__': None,\n",
       " '__builtin__': <module 'builtins' (built-in)>,\n",
       " '__builtins__': <module 'builtins' (built-in)>,\n",
       " '_ih': ['',\n",
       "  'class a_sample_class:\\n    def _init__(self):\\n        self.var = 0 \\n\\n    def print_vars(self):\\n        print(self.var)\\n\\nobj = a_sample_class()\\nobj.print_vars()\\n    \\n    ',\n",
       "  'class a_sample_class:\\n    def _init__(self):\\n        self.vars = 0 \\n\\n    def print_vars(self):\\n        print(self.vars)\\n\\nobj = a_sample_class()\\nobj.print_vars()\\n    \\n    ',\n",
       "  'class a_sample_class:\\n    def _init__(self):\\n        self.var = 0 \\n\\n    def print_vars(self):\\n        print(self.var)\\n\\nobj = a_sample_class()\\nobj.print_vars()\\n    \\n    ',\n",
       "  'class a_sample_class:\\n    def _init__(self):\\n        self.var = 0 \\n\\n    def print_vars(self):\\n        print(self.var)\\n\\nobj = a_sample_class()\\nobj.print_var()\\n    \\n    ',\n",
       "  'class a_sample_class:\\n    def __init__(self):\\n        self.vars = 0 \\n\\n    def print_vars(self):\\n        print(self.vars)\\n\\nobj = a_sample_class()\\nobj.print_var()\\n    \\n    ',\n",
       "  'class a_sample_class:\\n    def __init__(self):\\n        self.vars = 0 \\n\\n    def print_vars(self):\\n        print(self.vars)\\n\\nobj = a_sample_class()\\nobj.print_vars()\\n    \\n    ',\n",
       "  'class a_sample_class:\\n    #default/basic constructor\\n    def __init__(self,one,two):\\n        self.first = one\\n\\n    def print_vars(self):\\n        print(self.first)\\n\\nobj = a_sample_class(2,8)\\nobj.print_vars()',\n",
       "  'class a_sample_class:\\n    def __init__(self,one,two):\\n        self.first = one\\n        self.second = two \\nobj = a_sample_class(17,42)\\n\\nprint(obj.first)\\nprint(obj.class_attr)\\nprint(a_sample_class.first)\\nprint(a_sample_class.class_attr)',\n",
       "  'class a_sample_class:\\n    def __init__(self,one,two):\\n        self.first = one\\n        self.second = two \\nobj = a_sample_class(17,42)\\n\\nprint(obj.first)\\nprint(obj.class_attr)\\nprint(a_sample_class.first)\\n#print(a_sample_class.class_attr)',\n",
       "  'class a_sample_class:\\n    def __init__(self,one,two):\\n        self.first = one\\n        self.second = two \\nobj = a_sample_class(17,42)\\n\\nprint(obj.first)\\n#print(obj.class_attr)\\nprint(a_sample_class.first)\\n#print(a_sample_class.class_attr)',\n",
       "  'class a_sample_class:\\n    def __init__(self,one,two):\\n        self.first = one\\n        self.second = two \\nobj = a_sample_class(17,42)\\n\\nprint(obj.first)\\n#print(obj.class_attr)\\n#print(a_sample_class.first)\\n#print(a_sample_class.class_attr)',\n",
       "  'dir ',\n",
       "  'globals()'],\n",
       " '_oh': {12: <function dir>},\n",
       " '_dh': [PosixPath('/Users/noraelruwie/Documents/Nora_CSCI/CSCI-1070/Week_Three')],\n",
       " 'In': ['',\n",
       "  'class a_sample_class:\\n    def _init__(self):\\n        self.var = 0 \\n\\n    def print_vars(self):\\n        print(self.var)\\n\\nobj = a_sample_class()\\nobj.print_vars()\\n    \\n    ',\n",
       "  'class a_sample_class:\\n    def _init__(self):\\n        self.vars = 0 \\n\\n    def print_vars(self):\\n        print(self.vars)\\n\\nobj = a_sample_class()\\nobj.print_vars()\\n    \\n    ',\n",
       "  'class a_sample_class:\\n    def _init__(self):\\n        self.var = 0 \\n\\n    def print_vars(self):\\n        print(self.var)\\n\\nobj = a_sample_class()\\nobj.print_vars()\\n    \\n    ',\n",
       "  'class a_sample_class:\\n    def _init__(self):\\n        self.var = 0 \\n\\n    def print_vars(self):\\n        print(self.var)\\n\\nobj = a_sample_class()\\nobj.print_var()\\n    \\n    ',\n",
       "  'class a_sample_class:\\n    def __init__(self):\\n        self.vars = 0 \\n\\n    def print_vars(self):\\n        print(self.vars)\\n\\nobj = a_sample_class()\\nobj.print_var()\\n    \\n    ',\n",
       "  'class a_sample_class:\\n    def __init__(self):\\n        self.vars = 0 \\n\\n    def print_vars(self):\\n        print(self.vars)\\n\\nobj = a_sample_class()\\nobj.print_vars()\\n    \\n    ',\n",
       "  'class a_sample_class:\\n    #default/basic constructor\\n    def __init__(self,one,two):\\n        self.first = one\\n\\n    def print_vars(self):\\n        print(self.first)\\n\\nobj = a_sample_class(2,8)\\nobj.print_vars()',\n",
       "  'class a_sample_class:\\n    def __init__(self,one,two):\\n        self.first = one\\n        self.second = two \\nobj = a_sample_class(17,42)\\n\\nprint(obj.first)\\nprint(obj.class_attr)\\nprint(a_sample_class.first)\\nprint(a_sample_class.class_attr)',\n",
       "  'class a_sample_class:\\n    def __init__(self,one,two):\\n        self.first = one\\n        self.second = two \\nobj = a_sample_class(17,42)\\n\\nprint(obj.first)\\nprint(obj.class_attr)\\nprint(a_sample_class.first)\\n#print(a_sample_class.class_attr)',\n",
       "  'class a_sample_class:\\n    def __init__(self,one,two):\\n        self.first = one\\n        self.second = two \\nobj = a_sample_class(17,42)\\n\\nprint(obj.first)\\n#print(obj.class_attr)\\nprint(a_sample_class.first)\\n#print(a_sample_class.class_attr)',\n",
       "  'class a_sample_class:\\n    def __init__(self,one,two):\\n        self.first = one\\n        self.second = two \\nobj = a_sample_class(17,42)\\n\\nprint(obj.first)\\n#print(obj.class_attr)\\n#print(a_sample_class.first)\\n#print(a_sample_class.class_attr)',\n",
       "  'dir ',\n",
       "  'globals()'],\n",
       " 'Out': {12: <function dir>},\n",
       " 'get_ipython': <bound method InteractiveShell.get_ipython of <ipykernel.zmqshell.ZMQInteractiveShell object at 0x1072fc6b0>>,\n",
       " 'exit': <IPython.core.autocall.ZMQExitAutocall at 0x1072fcef0>,\n",
       " 'quit': <IPython.core.autocall.ZMQExitAutocall at 0x1072fcef0>,\n",
       " 'open': <function _io.open(file, mode='r', buffering=-1, encoding=None, errors=None, newline=None, closefd=True, opener=None)>,\n",
       " '_': <function dir>,\n",
       " '__': '',\n",
       " '___': '',\n",
       " '__session__': '/Users/noraelruwie/Documents/Nora_CSCI/CSCI-1070/Week_Three/1-29-2024.ipynb',\n",
       " '_i': 'dir ',\n",
       " '_ii': 'class a_sample_class:\\n    def __init__(self,one,two):\\n        self.first = one\\n        self.second = two \\nobj = a_sample_class(17,42)\\n\\nprint(obj.first)\\n#print(obj.class_attr)\\n#print(a_sample_class.first)\\n#print(a_sample_class.class_attr)',\n",
       " '_iii': 'class a_sample_class:\\n    def __init__(self,one,two):\\n        self.first = one\\n        self.second = two \\nobj = a_sample_class(17,42)\\n\\nprint(obj.first)\\n#print(obj.class_attr)\\nprint(a_sample_class.first)\\n#print(a_sample_class.class_attr)',\n",
       " '_i1': 'class a_sample_class:\\n    def _init__(self):\\n        self.var = 0 \\n\\n    def print_vars(self):\\n        print(self.var)\\n\\nobj = a_sample_class()\\nobj.print_vars()\\n    \\n    ',\n",
       " 'a_sample_class': __main__.a_sample_class,\n",
       " 'obj': <__main__.a_sample_class at 0x107493440>,\n",
       " '_i2': 'class a_sample_class:\\n    def _init__(self):\\n        self.vars = 0 \\n\\n    def print_vars(self):\\n        print(self.vars)\\n\\nobj = a_sample_class()\\nobj.print_vars()\\n    \\n    ',\n",
       " '_i3': 'class a_sample_class:\\n    def _init__(self):\\n        self.var = 0 \\n\\n    def print_vars(self):\\n        print(self.var)\\n\\nobj = a_sample_class()\\nobj.print_vars()\\n    \\n    ',\n",
       " '_i4': 'class a_sample_class:\\n    def _init__(self):\\n        self.var = 0 \\n\\n    def print_vars(self):\\n        print(self.var)\\n\\nobj = a_sample_class()\\nobj.print_var()\\n    \\n    ',\n",
       " '_i5': 'class a_sample_class:\\n    def __init__(self):\\n        self.vars = 0 \\n\\n    def print_vars(self):\\n        print(self.vars)\\n\\nobj = a_sample_class()\\nobj.print_var()\\n    \\n    ',\n",
       " '_i6': 'class a_sample_class:\\n    def __init__(self):\\n        self.vars = 0 \\n\\n    def print_vars(self):\\n        print(self.vars)\\n\\nobj = a_sample_class()\\nobj.print_vars()\\n    \\n    ',\n",
       " '_i7': 'class a_sample_class:\\n    #default/basic constructor\\n    def __init__(self,one,two):\\n        self.first = one\\n\\n    def print_vars(self):\\n        print(self.first)\\n\\nobj = a_sample_class(2,8)\\nobj.print_vars()',\n",
       " '_i8': 'class a_sample_class:\\n    def __init__(self,one,two):\\n        self.first = one\\n        self.second = two \\nobj = a_sample_class(17,42)\\n\\nprint(obj.first)\\nprint(obj.class_attr)\\nprint(a_sample_class.first)\\nprint(a_sample_class.class_attr)',\n",
       " '_i9': 'class a_sample_class:\\n    def __init__(self,one,two):\\n        self.first = one\\n        self.second = two \\nobj = a_sample_class(17,42)\\n\\nprint(obj.first)\\nprint(obj.class_attr)\\nprint(a_sample_class.first)\\n#print(a_sample_class.class_attr)',\n",
       " '_i10': 'class a_sample_class:\\n    def __init__(self,one,two):\\n        self.first = one\\n        self.second = two \\nobj = a_sample_class(17,42)\\n\\nprint(obj.first)\\n#print(obj.class_attr)\\nprint(a_sample_class.first)\\n#print(a_sample_class.class_attr)',\n",
       " '_i11': 'class a_sample_class:\\n    def __init__(self,one,two):\\n        self.first = one\\n        self.second = two \\nobj = a_sample_class(17,42)\\n\\nprint(obj.first)\\n#print(obj.class_attr)\\n#print(a_sample_class.first)\\n#print(a_sample_class.class_attr)',\n",
       " '_i12': 'dir ',\n",
       " '_12': <function dir>,\n",
       " '_i13': 'globals()'}"
      ]
     },
     "execution_count": 13,
     "metadata": {},
     "output_type": "execute_result"
    }
   ],
   "source": [
    "#returns the current module namespace\n",
    "# namespace = mapping between objects and current names \n",
    "globals()"
   ]
  },
  {
   "cell_type": "code",
   "execution_count": 14,
   "id": "1e89d04a-8604-42dc-a97e-e6dffd396eaf",
   "metadata": {},
   "outputs": [
    {
     "data": {
      "text/plain": [
       "['In',\n",
       " 'Out',\n",
       " '_',\n",
       " '_12',\n",
       " '_13',\n",
       " '__',\n",
       " '___',\n",
       " '__builtin__',\n",
       " '__builtins__',\n",
       " '__doc__',\n",
       " '__loader__',\n",
       " '__name__',\n",
       " '__package__',\n",
       " '__session__',\n",
       " '__spec__',\n",
       " '_dh',\n",
       " '_i',\n",
       " '_i1',\n",
       " '_i10',\n",
       " '_i11',\n",
       " '_i12',\n",
       " '_i13',\n",
       " '_i14',\n",
       " '_i2',\n",
       " '_i3',\n",
       " '_i4',\n",
       " '_i5',\n",
       " '_i6',\n",
       " '_i7',\n",
       " '_i8',\n",
       " '_i9',\n",
       " '_ih',\n",
       " '_ii',\n",
       " '_iii',\n",
       " '_oh',\n",
       " 'a_sample_class',\n",
       " 'exit',\n",
       " 'get_ipython',\n",
       " 'obj',\n",
       " 'open',\n",
       " 'quit']"
      ]
     },
     "execution_count": 14,
     "metadata": {},
     "output_type": "execute_result"
    }
   ],
   "source": [
    "dir()"
   ]
  },
  {
   "cell_type": "code",
   "execution_count": 24,
   "id": "177c9b3c-854b-4e66-9891-e502966873bf",
   "metadata": {},
   "outputs": [],
   "source": [
    "# Instance, Class, and Static Methods \n",
    "class candy: \n",
    "    #variables that start with a single underscore are reserved for internal purposes\n",
    "    def __init__(self,\n",
    "                 _brand,\n",
    "                 _is_caramel = False,\n",
    "                 _has_nuts= False,\n",
    "                 _calories= 200,\n",
    "                 _type= 'chocolate',\n",
    "                 _size= 'regular'):\n",
    "        self.type = _type\n",
    "        self.brand = _brand\n",
    "        self.is_caramel = _is_caramel\n",
    "        self.calories = _calories\n",
    "        self.has_nuts = _has_nuts\n",
    "        self.size = _size\n",
    "\n",
    "    #instance method - can access and modify BOTH the class and the instance state \n",
    "    #printing is accessing the state\n",
    "    def display(self):\n",
    "        print(f'My favorite candy is {self.brand} {self.type}')\n",
    "\n",
    "# class method - used to modify the state of a class (for all instances) \n",
    "    @classmethod\n",
    "    def snickers(cls):\n",
    "        return cls('Snickers',_is_caramel = True, _has_nuts = True)\n",
    "\n",
    "# static method - used for comparison or validation \n",
    "# commonly used in data for checking if data meets conditions \n",
    "# if you want to check the value without needing an instance of it \n",
    "\n",
    "    @staticmethod \n",
    "    def calories(size,n):\n",
    "        if size == 'Large':\n",
    "            calories = 500 \n",
    "        elif size == 'regular':\n",
    "            calories == 350 \n",
    "        else:\n",
    "            calories == 0\n",
    "            calories == calories*n\n",
    "            return calories \n"
   ]
  },
  {
   "cell_type": "code",
   "execution_count": 17,
   "id": "2663c174-a248-4a7d-b973-91b633d6281b",
   "metadata": {},
   "outputs": [
    {
     "name": "stdout",
     "output_type": "stream",
     "text": [
      "My favorite candy is Reeses chocolate\n"
     ]
    }
   ],
   "source": [
    "favorite_candy = candy(_brand= 'Reeses')\n",
    "favorite_candy.display()"
   ]
  },
  {
   "cell_type": "code",
   "execution_count": 22,
   "id": "90921663-105a-416e-bbde-f32aad264eb8",
   "metadata": {},
   "outputs": [
    {
     "name": "stdout",
     "output_type": "stream",
     "text": [
      "My favorite candy is Snickers chocolate\n"
     ]
    }
   ],
   "source": [
    "# create snickers bar instance \n",
    "snickers_bar = candy.snickers() \n",
    "snickers_bar.display()"
   ]
  },
  {
   "cell_type": "code",
   "execution_count": 27,
   "id": "e8270ce7-552e-4ea9-bc94-2108c76df417",
   "metadata": {},
   "outputs": [
    {
     "ename": "UnboundLocalError",
     "evalue": "cannot access local variable 'calories' where it is not associated with a value",
     "output_type": "error",
     "traceback": [
      "\u001b[0;31m---------------------------------------------------------------------------\u001b[0m",
      "\u001b[0;31mUnboundLocalError\u001b[0m                         Traceback (most recent call last)",
      "Cell \u001b[0;32mIn[27], line 1\u001b[0m\n\u001b[0;32m----> 1\u001b[0m \u001b[43mcandy\u001b[49m\u001b[38;5;241;43m.\u001b[39;49m\u001b[43mcalories\u001b[49m\u001b[43m(\u001b[49m\u001b[38;5;124;43m'\u001b[39;49m\u001b[38;5;124;43mfunsized\u001b[39;49m\u001b[38;5;124;43m'\u001b[39;49m\u001b[43m,\u001b[49m\u001b[38;5;241;43m40\u001b[39;49m\u001b[43m)\u001b[49m\n",
      "Cell \u001b[0;32mIn[24], line 39\u001b[0m, in \u001b[0;36mcandy.calories\u001b[0;34m(size, n)\u001b[0m\n\u001b[1;32m     37\u001b[0m     calories \u001b[38;5;241m==\u001b[39m \u001b[38;5;241m350\u001b[39m \n\u001b[1;32m     38\u001b[0m \u001b[38;5;28;01melse\u001b[39;00m:\n\u001b[0;32m---> 39\u001b[0m     \u001b[43mcalories\u001b[49m \u001b[38;5;241m==\u001b[39m \u001b[38;5;241m0\u001b[39m\n\u001b[1;32m     40\u001b[0m     calories \u001b[38;5;241m==\u001b[39m calories\u001b[38;5;241m*\u001b[39mn\n\u001b[1;32m     41\u001b[0m     \u001b[38;5;28;01mreturn\u001b[39;00m calories\n",
      "\u001b[0;31mUnboundLocalError\u001b[0m: cannot access local variable 'calories' where it is not associated with a value"
     ]
    }
   ],
   "source": [
    "candy.calories('funsized',40)"
   ]
  },
  {
   "cell_type": "markdown",
   "id": "9549a7b6-4d95-4647-aae6-c6565eb1a998",
   "metadata": {},
   "source": [
    "# Principles of OOP \n",
    "- encapsulation - implementation details are hidden or encapsulated in objects\n",
    "- inheritance - child classes can inherit from parents classes and modules\n",
    "- polymorphism - objects and names exist in many forms. So, the same attribute or method can exist in multiple classes and mean different things, etc.\n",
    "- abstraction - handling a concept rather than the implementation details"
   ]
  },
  {
   "cell_type": "code",
   "execution_count": null,
   "id": "4717b4be-c879-4ce8-b1d7-93ecfe6c7cf8",
   "metadata": {},
   "outputs": [],
   "source": []
  }
 ],
 "metadata": {
  "kernelspec": {
   "display_name": "Python 3 (ipykernel)",
   "language": "python",
   "name": "python3"
  },
  "language_info": {
   "codemirror_mode": {
    "name": "ipython",
    "version": 3
   },
   "file_extension": ".py",
   "mimetype": "text/x-python",
   "name": "python",
   "nbconvert_exporter": "python",
   "pygments_lexer": "ipython3",
   "version": "3.12.1"
  }
 },
 "nbformat": 4,
 "nbformat_minor": 5
}
