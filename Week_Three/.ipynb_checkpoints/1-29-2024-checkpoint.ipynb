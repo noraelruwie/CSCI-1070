{
 "cells": [
  {
   "cell_type": "markdown",
   "id": "7d8690c8-0e43-42d7-9448-db845099accc",
   "metadata": {},
   "source": [
    "#Scope (LEGB) Rule\n",
    "Local - only available to other codes in this scope. A function, for example, only has access to the names defined in that function or passed into it via arguments\n",
    "Enclosing - only exists in nested functions. Inner nests can have access to the names in outer nests \n",
    "Global - Available to all your code and can pass thru modules, classes, etc. \n",
    "Built in- all names that are created by Pyhton when u run a script\n",
    "\n",
    "what does being aware of ur scope help do and avoid? \n",
    "- can help us avoid name collision (we dont want to use a name that is already a built-in) \n"
   ]
  },
  {
   "cell_type": "markdown",
   "id": "a5c9144d-1c66-465d-8601-a8082bc2a952",
   "metadata": {},
   "source": [
    "# Constructor \n",
    "_init_ (_is dunder) \n",
    "SELF is a default variable that contains the memory address of the current code you are working in. "
   ]
  },
  {
   "cell_type": "code",
   "execution_count": 21,
   "id": "699e63e9-4d99-4a9a-8d9a-20ef2b9557a0",
   "metadata": {},
   "outputs": [
    {
     "ename": "AttributeError",
     "evalue": "'a_sample_class' object has no attribute 'var'",
     "output_type": "error",
     "traceback": [
      "\u001b[0;31m---------------------------------------------------------------------------\u001b[0m",
      "\u001b[0;31mAttributeError\u001b[0m                            Traceback (most recent call last)",
      "Cell \u001b[0;32mIn[21], line 9\u001b[0m\n\u001b[1;32m      6\u001b[0m         \u001b[38;5;28mprint\u001b[39m(\u001b[38;5;28mself\u001b[39m\u001b[38;5;241m.\u001b[39mvar)\n\u001b[1;32m      8\u001b[0m obj \u001b[38;5;241m=\u001b[39m a_sample_class()\n\u001b[0;32m----> 9\u001b[0m \u001b[43mobj\u001b[49m\u001b[38;5;241;43m.\u001b[39;49m\u001b[43mprint_vars\u001b[49m\u001b[43m(\u001b[49m\u001b[43m)\u001b[49m\n",
      "Cell \u001b[0;32mIn[21], line 6\u001b[0m, in \u001b[0;36ma_sample_class.print_vars\u001b[0;34m(self)\u001b[0m\n\u001b[1;32m      5\u001b[0m \u001b[38;5;28;01mdef\u001b[39;00m \u001b[38;5;21mprint_vars\u001b[39m(\u001b[38;5;28mself\u001b[39m):\n\u001b[0;32m----> 6\u001b[0m     \u001b[38;5;28mprint\u001b[39m(\u001b[38;5;28;43mself\u001b[39;49m\u001b[38;5;241;43m.\u001b[39;49m\u001b[43mvar\u001b[49m)\n",
      "\u001b[0;31mAttributeError\u001b[0m: 'a_sample_class' object has no attribute 'var'"
     ]
    }
   ],
   "source": [
    "class a_sample_class:\n",
    "    def _init_(self):\n",
    "        self.var = 0 \n",
    "\n",
    "    def print_vars(self):\n",
    "        print(self.var)\n",
    "\n",
    "obj = a_sample_class()\n",
    "obj.print_vars()\n",
    "    \n",
    "    \n"
   ]
  },
  {
   "cell_type": "code",
   "execution_count": 19,
   "id": "c708c11c-a59b-4efc-8938-0325b9c9286f",
   "metadata": {},
   "outputs": [
    {
     "ename": "TypeError",
     "evalue": "a_sample_class() takes no arguments",
     "output_type": "error",
     "traceback": [
      "\u001b[0;31m---------------------------------------------------------------------------\u001b[0m",
      "\u001b[0;31mTypeError\u001b[0m                                 Traceback (most recent call last)",
      "Cell \u001b[0;32mIn[19], line 9\u001b[0m\n\u001b[1;32m      6\u001b[0m     \u001b[38;5;28;01mdef\u001b[39;00m \u001b[38;5;21mprint_vars\u001b[39m(\u001b[38;5;28mself\u001b[39m):\n\u001b[1;32m      7\u001b[0m         \u001b[38;5;28mprint\u001b[39m(\u001b[38;5;28mself\u001b[39m\u001b[38;5;241m.\u001b[39mfirst)\n\u001b[0;32m----> 9\u001b[0m obj \u001b[38;5;241m=\u001b[39m \u001b[43ma_sample_class\u001b[49m\u001b[43m(\u001b[49m\u001b[38;5;241;43m2\u001b[39;49m\u001b[43m,\u001b[49m\u001b[38;5;241;43m8\u001b[39;49m\u001b[43m)\u001b[49m\n\u001b[1;32m     10\u001b[0m obj\u001b[38;5;241m.\u001b[39mprint_vars()\n",
      "\u001b[0;31mTypeError\u001b[0m: a_sample_class() takes no arguments"
     ]
    }
   ],
   "source": [
    "class a_sample_class:\n",
    "    #default/basic constructor\n",
    "    def _init_(self,one,two):\n",
    "        self.first = one\n",
    "\n",
    "    def print_vars(self):\n",
    "        print(self.first)\n",
    "\n",
    "obj = a_sample_class(2,8)\n",
    "obj.print_vars()\n",
    "\n"
   ]
  },
  {
   "cell_type": "code",
   "execution_count": 22,
   "id": "154d2fff-f937-4feb-bbf3-312b73870d72",
   "metadata": {},
   "outputs": [
    {
     "ename": "TypeError",
     "evalue": "a_sample_class() takes no arguments",
     "output_type": "error",
     "traceback": [
      "\u001b[0;31m---------------------------------------------------------------------------\u001b[0m",
      "\u001b[0;31mTypeError\u001b[0m                                 Traceback (most recent call last)",
      "Cell \u001b[0;32mIn[22], line 5\u001b[0m\n\u001b[1;32m      3\u001b[0m         \u001b[38;5;28mself\u001b[39m\u001b[38;5;241m.\u001b[39mfirst \u001b[38;5;241m=\u001b[39m one\n\u001b[1;32m      4\u001b[0m         \u001b[38;5;28mself\u001b[39m\u001b[38;5;241m.\u001b[39msecond \u001b[38;5;241m=\u001b[39m two \n\u001b[0;32m----> 5\u001b[0m obj \u001b[38;5;241m=\u001b[39m \u001b[43ma_sample_class\u001b[49m\u001b[43m(\u001b[49m\u001b[38;5;241;43m17\u001b[39;49m\u001b[43m,\u001b[49m\u001b[38;5;241;43m42\u001b[39;49m\u001b[43m)\u001b[49m\n\u001b[1;32m      7\u001b[0m \u001b[38;5;28mprint\u001b[39m(obj\u001b[38;5;241m.\u001b[39mfirst)\n\u001b[1;32m      8\u001b[0m \u001b[38;5;28mprint\u001b[39m(obj\u001b[38;5;241m.\u001b[39mclass_attr)\n",
      "\u001b[0;31mTypeError\u001b[0m: a_sample_class() takes no arguments"
     ]
    }
   ],
   "source": [
    "class a_sample_class:\n",
    "    def _init_(self,one,two):\n",
    "        self.first = one\n",
    "        self.second = two \n",
    "obj = a_sample_class(17,42)\n",
    "\n",
    "print(obj.first)\n",
    "print(obj.class_attr)\n",
    "print(a_sample_class.first)\n",
    "print(a_sample_class.class_attr)"
   ]
  },
  {
   "cell_type": "markdown",
   "id": "6b3953e0-38ef-49fe-acdb-1c714e45aaf9",
   "metadata": {},
   "source": [
    "# Classes\n",
    "Three types: class methods, static methods, and instance methods \n",
    "- Need to create an object to call Non static methods\n",
    "- Class methods : Can modify class state, cant modify object state, used for factory functions\n",
    "- Static Method : Cant access class state, cant access object state, used for utility functions\n",
    "- Instance method : Can modify class state, can modify object state "
   ]
  },
  {
   "cell_type": "markdown",
   "id": "ff157f1b-bcf2-4c1a-b765-abcbffc69a1e",
   "metadata": {},
   "source": [
    "# Instance attributes and Class Attributes\n",
    "2 scopes for attributes\n",
    "instance attribute = a variable that belongs to a specific instance or instantiation. Defined inside the constructor (init). Can access from the scope of an object (local) \n",
    "\n",
    "Class attribute = type of variable that belongs to the class itself. Defined outside the constructor. Similar to static attributes in Java (not exactly the same). Both a property of the class AND a property of the object. We can mutate a class attribute to be an instance attribute. "
   ]
  },
  {
   "cell_type": "code",
   "execution_count": null,
   "id": "62e30e2f-547f-4bf8-8e04-800e33802700",
   "metadata": {},
   "outputs": [],
   "source": []
  }
 ],
 "metadata": {
  "kernelspec": {
   "display_name": "Python 3 (ipykernel)",
   "language": "python",
   "name": "python3"
  },
  "language_info": {
   "codemirror_mode": {
    "name": "ipython",
    "version": 3
   },
   "file_extension": ".py",
   "mimetype": "text/x-python",
   "name": "python",
   "nbconvert_exporter": "python",
   "pygments_lexer": "ipython3",
   "version": "3.12.1"
  }
 },
 "nbformat": 4,
 "nbformat_minor": 5
}
