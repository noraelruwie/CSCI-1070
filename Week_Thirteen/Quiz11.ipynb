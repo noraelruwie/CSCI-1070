{
 "cells": [
  {
   "cell_type": "markdown",
   "metadata": {},
   "source": [
    "# Question One"
   ]
  },
  {
   "cell_type": "code",
   "execution_count": 1,
   "metadata": {},
   "outputs": [
    {
     "name": "stdout",
     "output_type": "stream",
     "text": [
      "['a', 'b']\n"
     ]
    }
   ],
   "source": [
    "def filter_non_numeric(input_list):\n",
    "    return [x for x in input_list if not isinstance(x, (int, float))]\n",
    "\n",
    "input_list = [1, 2, 'a', 'b', 7.6]\n",
    "output_list = filter_non_numeric(input_list)\n",
    "print(output_list)  \n"
   ]
  },
  {
   "cell_type": "markdown",
   "metadata": {},
   "source": [
    "# Question Two "
   ]
  },
  {
   "cell_type": "markdown",
   "metadata": {},
   "source": []
  },
  {
   "cell_type": "code",
   "execution_count": 4,
   "metadata": {},
   "outputs": [
    {
     "name": "stdout",
     "output_type": "stream",
     "text": [
      "['1', '2', 'Fizz', '4', 'Buzz', 'Fizz', '7', '8', 'Fizz', 'Buzz', '11', 'Fizz', '13', '14', 'FizzBuzz']\n"
     ]
    }
   ],
   "source": [
    "from typing import List\n",
    "\n",
    "def fizzbuzz(n: int = 100, fizz_num: int = 3, buzz_num: int = 5) -> List[str]:\n",
    "    \"\"\"\n",
    "    Generate a list based on fizzbuzz.\n",
    "\n",
    "    arg:\n",
    "        n (int, optional): The number of elements in the list. Defaults to 100.\n",
    "        fizz_num (int, optional): The number for fizz. Defaults to 3.\n",
    "        buzz_num (int, optional): The number for buzz. Defaults to 5.\n",
    "\n",
    "    return:\n",
    "        List[str]: A list of strings representing the FizzBuzz sequence.\n",
    "    \"\"\"\n",
    "    result = []\n",
    "    for i in range(1, n + 1):\n",
    "        if i % fizz_num == 0 and i % buzz_num == 0:\n",
    "            result.append(\"FizzBuzz\")\n",
    "        elif i % fizz_num == 0:\n",
    "            result.append(\"Fizz\")\n",
    "        elif i % buzz_num == 0:\n",
    "            result.append(\"Buzz\")\n",
    "        else:\n",
    "            result.append(str(i))\n",
    "    return result\n",
    "\n",
    "# test function to make sure it works\n",
    "print(fizzbuzz(15))  "
   ]
  },
  {
   "cell_type": "code",
   "execution_count": null,
   "metadata": {},
   "outputs": [],
   "source": []
  }
 ],
 "metadata": {
  "kernelspec": {
   "display_name": "Python 3",
   "language": "python",
   "name": "python3"
  },
  "language_info": {
   "codemirror_mode": {
    "name": "ipython",
    "version": 3
   },
   "file_extension": ".py",
   "mimetype": "text/x-python",
   "name": "python",
   "nbconvert_exporter": "python",
   "pygments_lexer": "ipython3",
   "version": "3.10.13"
  }
 },
 "nbformat": 4,
 "nbformat_minor": 2
}
