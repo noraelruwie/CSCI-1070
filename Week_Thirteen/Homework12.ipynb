{
 "cells": [
  {
   "cell_type": "code",
   "execution_count": 37,
   "metadata": {},
   "outputs": [
    {
     "name": "stderr",
     "output_type": "stream",
     "text": [
      "[nltk_data] Downloading package gutenberg to\n",
      "[nltk_data]     /Users/noraelruwie/nltk_data...\n",
      "[nltk_data]   Package gutenberg is already up-to-date!\n"
     ]
    }
   ],
   "source": [
    "import nltk \n",
    "from nltk.tokenize import word_tokenize  \n",
    "nltk.download('gutenberg')\n",
    "from nltk.tokenize import sent_tokenize \n",
    "from nltk.probability import FreqDist \n",
    "from nltk.corpus import stopwords \n",
    "from nltk.stem import WordNetLemmatizer \n",
    "from nltk.sentiment.vader import SentimentIntensityAnalyzer \n",
    "from nltk.corpus import names \n",
    "\n"
   ]
  },
  {
   "cell_type": "markdown",
   "metadata": {},
   "source": [
    "# Part One: 12 points"
   ]
  },
  {
   "cell_type": "code",
   "execution_count": 38,
   "metadata": {},
   "outputs": [
    {
     "data": {
      "text/plain": [
       "['austen-emma.txt',\n",
       " 'austen-persuasion.txt',\n",
       " 'austen-sense.txt',\n",
       " 'bible-kjv.txt',\n",
       " 'blake-poems.txt',\n",
       " 'bryant-stories.txt',\n",
       " 'burgess-busterbrown.txt',\n",
       " 'carroll-alice.txt',\n",
       " 'chesterton-ball.txt',\n",
       " 'chesterton-brown.txt',\n",
       " 'chesterton-thursday.txt',\n",
       " 'edgeworth-parents.txt',\n",
       " 'melville-moby_dick.txt',\n",
       " 'milton-paradise.txt',\n",
       " 'shakespeare-caesar.txt',\n",
       " 'shakespeare-hamlet.txt',\n",
       " 'shakespeare-macbeth.txt',\n",
       " 'whitman-leaves.txt']"
      ]
     },
     "execution_count": 38,
     "metadata": {},
     "output_type": "execute_result"
    }
   ],
   "source": [
    "nltk.corpus.gutenberg.fileids() "
   ]
  },
  {
   "cell_type": "code",
   "execution_count": 39,
   "metadata": {},
   "outputs": [
    {
     "data": {
      "text/plain": [
       "96825"
      ]
     },
     "execution_count": 39,
     "metadata": {},
     "output_type": "execute_result"
    }
   ],
   "source": [
    "paradise = nltk.corpus.gutenberg.words('milton-paradise.txt')\n",
    "paradise_lower = [word.lower() for word in paradise]\n",
    "len(paradise_lower)"
   ]
  },
  {
   "cell_type": "code",
   "execution_count": 40,
   "metadata": {},
   "outputs": [
    {
     "name": "stdout",
     "output_type": "stream",
     "text": [
      "paradise\n"
     ]
    }
   ],
   "source": [
    "from nltk.stem import WordNetLemmatizer\n",
    "lemmatizer = WordNetLemmatizer()\n",
    "word = 'paradise'\n",
    "print(lemmatizer.lemmatize(word))"
   ]
  },
  {
   "cell_type": "code",
   "execution_count": 41,
   "metadata": {},
   "outputs": [
    {
     "data": {
      "text/plain": [
       "{'a',\n",
       " 'about',\n",
       " 'above',\n",
       " 'after',\n",
       " 'again',\n",
       " 'against',\n",
       " 'ain',\n",
       " 'all',\n",
       " 'am',\n",
       " 'an',\n",
       " 'and',\n",
       " 'any',\n",
       " 'are',\n",
       " 'aren',\n",
       " \"aren't\",\n",
       " 'as',\n",
       " 'at',\n",
       " 'be',\n",
       " 'because',\n",
       " 'been',\n",
       " 'before',\n",
       " 'being',\n",
       " 'below',\n",
       " 'between',\n",
       " 'both',\n",
       " 'but',\n",
       " 'by',\n",
       " 'can',\n",
       " 'couldn',\n",
       " \"couldn't\",\n",
       " 'd',\n",
       " 'did',\n",
       " 'didn',\n",
       " \"didn't\",\n",
       " 'do',\n",
       " 'does',\n",
       " 'doesn',\n",
       " \"doesn't\",\n",
       " 'doing',\n",
       " 'don',\n",
       " \"don't\",\n",
       " 'down',\n",
       " 'during',\n",
       " 'each',\n",
       " 'few',\n",
       " 'for',\n",
       " 'from',\n",
       " 'further',\n",
       " 'had',\n",
       " 'hadn',\n",
       " \"hadn't\",\n",
       " 'has',\n",
       " 'hasn',\n",
       " \"hasn't\",\n",
       " 'have',\n",
       " 'haven',\n",
       " \"haven't\",\n",
       " 'having',\n",
       " 'he',\n",
       " 'her',\n",
       " 'here',\n",
       " 'hers',\n",
       " 'herself',\n",
       " 'him',\n",
       " 'himself',\n",
       " 'his',\n",
       " 'how',\n",
       " 'i',\n",
       " 'if',\n",
       " 'in',\n",
       " 'into',\n",
       " 'is',\n",
       " 'isn',\n",
       " \"isn't\",\n",
       " 'it',\n",
       " \"it's\",\n",
       " 'its',\n",
       " 'itself',\n",
       " 'just',\n",
       " 'll',\n",
       " 'm',\n",
       " 'ma',\n",
       " 'me',\n",
       " 'mightn',\n",
       " \"mightn't\",\n",
       " 'more',\n",
       " 'most',\n",
       " 'mustn',\n",
       " \"mustn't\",\n",
       " 'my',\n",
       " 'myself',\n",
       " 'needn',\n",
       " \"needn't\",\n",
       " 'no',\n",
       " 'nor',\n",
       " 'not',\n",
       " 'now',\n",
       " 'o',\n",
       " 'of',\n",
       " 'off',\n",
       " 'on',\n",
       " 'once',\n",
       " 'only',\n",
       " 'or',\n",
       " 'other',\n",
       " 'our',\n",
       " 'ours',\n",
       " 'ourselves',\n",
       " 'out',\n",
       " 'over',\n",
       " 'own',\n",
       " 're',\n",
       " 's',\n",
       " 'same',\n",
       " 'shan',\n",
       " \"shan't\",\n",
       " 'she',\n",
       " \"she's\",\n",
       " 'should',\n",
       " \"should've\",\n",
       " 'shouldn',\n",
       " \"shouldn't\",\n",
       " 'so',\n",
       " 'some',\n",
       " 'such',\n",
       " 't',\n",
       " 'than',\n",
       " 'that',\n",
       " \"that'll\",\n",
       " 'the',\n",
       " 'their',\n",
       " 'theirs',\n",
       " 'them',\n",
       " 'themselves',\n",
       " 'then',\n",
       " 'there',\n",
       " 'these',\n",
       " 'they',\n",
       " 'this',\n",
       " 'those',\n",
       " 'through',\n",
       " 'to',\n",
       " 'too',\n",
       " 'under',\n",
       " 'until',\n",
       " 'up',\n",
       " 've',\n",
       " 'very',\n",
       " 'was',\n",
       " 'wasn',\n",
       " \"wasn't\",\n",
       " 'we',\n",
       " 'were',\n",
       " 'weren',\n",
       " \"weren't\",\n",
       " 'what',\n",
       " 'when',\n",
       " 'where',\n",
       " 'which',\n",
       " 'while',\n",
       " 'who',\n",
       " 'whom',\n",
       " 'why',\n",
       " 'will',\n",
       " 'with',\n",
       " 'won',\n",
       " \"won't\",\n",
       " 'wouldn',\n",
       " \"wouldn't\",\n",
       " 'y',\n",
       " 'you',\n",
       " \"you'd\",\n",
       " \"you'll\",\n",
       " \"you're\",\n",
       " \"you've\",\n",
       " 'your',\n",
       " 'yours',\n",
       " 'yourself',\n",
       " 'yourselves'}"
      ]
     },
     "execution_count": 41,
     "metadata": {},
     "output_type": "execute_result"
    }
   ],
   "source": [
    "sw = set(nltk.corpus.stopwords.words('english'))\n",
    "sw"
   ]
  },
  {
   "cell_type": "code",
   "execution_count": 42,
   "metadata": {},
   "outputs": [
    {
     "data": {
      "text/plain": [
       "[('thou', 432),\n",
       " ('heaven', 419),\n",
       " ('thy', 414),\n",
       " ('thee', 358),\n",
       " ('thus', 318),\n",
       " ('shall', 283),\n",
       " ('god', 260),\n",
       " ('yet', 228),\n",
       " ('earth', 217),\n",
       " ('though', 217),\n",
       " ('us', 187),\n",
       " ('man', 176),\n",
       " ('first', 175),\n",
       " ('high', 153),\n",
       " ('one', 142),\n",
       " ('far', 129),\n",
       " ('death', 126),\n",
       " ('may', 126),\n",
       " ('great', 123),\n",
       " ('till', 120)]"
      ]
     },
     "execution_count": 42,
     "metadata": {},
     "output_type": "execute_result"
    }
   ],
   "source": [
    "import string \n",
    "punctuation = set(string.punctuation)\n",
    "paradise_one = [word for word in paradise_lower if word not in sw and word not in punctuation]\n",
    "fdist = FreqDist(paradise_one) \n",
    "top_twenty = fdist.most_common(20)\n",
    "top_twenty\n"
   ]
  },
  {
   "cell_type": "code",
   "execution_count": 43,
   "metadata": {},
   "outputs": [
    {
     "name": "stdout",
     "output_type": "stream",
     "text": [
      "Requirement already satisfied: matplotlib in /opt/homebrew/lib/python3.10/site-packages (3.8.4)\n",
      "Requirement already satisfied: contourpy>=1.0.1 in /opt/homebrew/lib/python3.10/site-packages (from matplotlib) (1.2.1)\n",
      "Requirement already satisfied: cycler>=0.10 in /opt/homebrew/lib/python3.10/site-packages (from matplotlib) (0.12.1)\n",
      "Requirement already satisfied: fonttools>=4.22.0 in /opt/homebrew/lib/python3.10/site-packages (from matplotlib) (4.51.0)\n",
      "Requirement already satisfied: kiwisolver>=1.3.1 in /opt/homebrew/lib/python3.10/site-packages (from matplotlib) (1.4.5)\n",
      "Requirement already satisfied: numpy>=1.21 in /opt/homebrew/lib/python3.10/site-packages (from matplotlib) (1.26.4)\n",
      "Requirement already satisfied: packaging>=20.0 in /Users/noraelruwie/Library/Python/3.10/lib/python/site-packages (from matplotlib) (24.0)\n",
      "Requirement already satisfied: pillow>=8 in /opt/homebrew/lib/python3.10/site-packages (from matplotlib) (10.3.0)\n",
      "Requirement already satisfied: pyparsing>=2.3.1 in /opt/homebrew/lib/python3.10/site-packages (from matplotlib) (3.1.2)\n",
      "Requirement already satisfied: python-dateutil>=2.7 in /Users/noraelruwie/Library/Python/3.10/lib/python/site-packages (from matplotlib) (2.9.0.post0)\n",
      "Requirement already satisfied: six>=1.5 in /opt/homebrew/lib/python3.10/site-packages (from python-dateutil>=2.7->matplotlib) (1.16.0)\n",
      "\n",
      "\u001b[1m[\u001b[0m\u001b[34;49mnotice\u001b[0m\u001b[1;39;49m]\u001b[0m\u001b[39;49m A new release of pip is available: \u001b[0m\u001b[31;49m23.3.1\u001b[0m\u001b[39;49m -> \u001b[0m\u001b[32;49m24.0\u001b[0m\n",
      "\u001b[1m[\u001b[0m\u001b[34;49mnotice\u001b[0m\u001b[1;39;49m]\u001b[0m\u001b[39;49m To update, run: \u001b[0m\u001b[32;49mpython3.10 -m pip install --upgrade pip\u001b[0m\n",
      "Note: you may need to restart the kernel to use updated packages.\n"
     ]
    }
   ],
   "source": [
    "pip install matplotlib"
   ]
  },
  {
   "cell_type": "code",
   "execution_count": 44,
   "metadata": {},
   "outputs": [
    {
     "data": {
      "image/png": "[encoded data removed]",
      "text/plain": [
       "<Figure size 1000x600 with 1 Axes>"
      ]
     },
     "metadata": {},
     "output_type": "display_data"
    }
   ],
   "source": [
    "import matplotlib.pyplot as plt\n",
    "\n",
    "words = [pair[0] for pair in top_twenty]\n",
    "frequencies = [pair[1] for pair in top_twenty]\n",
    "\n",
    "plt.figure(figsize=(10, 6))\n",
    "plt.bar(words, frequencies, color='skyblue')\n",
    "plt.xlabel('Words')\n",
    "plt.ylabel('Frequency')\n",
    "plt.title('Top Twenty Most Common Words')\n",
    "plt.xticks(rotation=45, ha='right')\n",
    "plt.tight_layout()\n",
    "plt.show()\n"
   ]
  },
  {
   "cell_type": "markdown",
   "metadata": {},
   "source": [
    "* I chose lemmatization due to it being more accurate than stemming since it looks through an actual dicitonary to connect the words and is far more accurate than stemming. "
   ]
  },
  {
   "cell_type": "markdown",
   "metadata": {},
   "source": [
    "# Part Two: 10 points"
   ]
  },
  {
   "cell_type": "code",
   "execution_count": 45,
   "metadata": {},
   "outputs": [
    {
     "name": "stderr",
     "output_type": "stream",
     "text": [
      "[nltk_data] Downloading package vader_lexicon to\n",
      "[nltk_data]     /Users/noraelruwie/nltk_data...\n",
      "[nltk_data]   Package vader_lexicon is already up-to-date!\n"
     ]
    }
   ],
   "source": [
    "nltk.download('vader_lexicon')\n",
    "from nltk.sentiment.vader import SentimentIntensityAnalyzer\n",
    "analyzer = SentimentIntensityAnalyzer()"
   ]
  },
  {
   "cell_type": "code",
   "execution_count": 46,
   "metadata": {},
   "outputs": [
    {
     "data": {
      "text/plain": [
       "{'neg': 0.135, 'neu': 0.672, 'pos': 0.193, 'compound': 1.0}"
      ]
     },
     "execution_count": 46,
     "metadata": {},
     "output_type": "execute_result"
    }
   ],
   "source": [
    "paradise_text = ' '.join(paradise_lower)\n",
    "sentiment = analyzer.polarity_scores(paradise_text)\n",
    "sentiment "
   ]
  },
  {
   "cell_type": "code",
   "execution_count": 47,
   "metadata": {},
   "outputs": [
    {
     "name": "stdout",
     "output_type": "stream",
     "text": [
      "Five Most Negative Sentences:\n",
      "that now , while time was , our first parents had been warned the coming of their secret foe , and ' scaped , haply so ' scaped his mortal snare : for now satan , now first inflamed with rage , came down , the tempter ere the accuser of mankind , to wreak on innocent frail man his loss of that first battle , and his flight to hell : yet , not rejoicing in his speed , though bold far off and fearless , nor with cause to boast , begins his dire attempt ; which nigh the birth now rolling boils in his tumultuous breast , and like a devilish engine back recoils upon himself ; horrour and doubt distract his troubled thoughts , and from the bottom stir the hell within him ; for within him hell he brings , and round about him , nor from hell one step , no more than from himself , can fly by change of place : now conscience wakes despair , that slumbered ; wakes the bitter memory of what he was , what is , and what must be worse ; of worse deeds worse sufferings must ensue .\n",
      "for this he shall live hated , be blasphemed , seised on by force , judged , and to death condemned a shameful and accursed , nailed to the cross by his own nation ; slain for bringing life : but to the cross he nails thy enemies , the law that is against thee , and the sins of all mankind , with him there crucified , never to hurt them more who rightly trust in this his satisfaction ; so he dies , but soon revives ; death over him no power shall long usurp ; ere the third dawning light return , the stars of morn shall see him rise out of his grave , fresh as the dawning light , thy ransom paid , which man from death redeems , his death for man , as many as offered life neglect not , and the benefit embrace by faith not void of works : this god - like act annuls thy doom , the death thou shouldest have died , in sin for ever lost from life ; this act shall bruise the head of satan , crush his strength , defeating sin and death , his two main arms ; and fix far deeper in his head their stings than temporal death shall bruise the victor ' s heel , or theirs whom he redeems ; a death , like sleep , a gentle wafting to immortal life .\n",
      "through many a dark and dreary vale they passed , and many a region dolorous , o ' er many a frozen , many a fiery alp , rocks , caves , lakes , fens , bogs , dens , and shades of death -- a universe of death , which god by curse created evil , for evil only good ; where all life dies , death lives , and nature breeds , perverse , all monstrous , all prodigious things , obominable , inutterable , and worse than fables yet have feigned or fear conceived , gorgons , and hydras , and chimeras dire .\n",
      "he , after eve seduced , unminded slunk into the wood fast by ; and , changing shape , to observe the sequel , saw his guileful act by eve , though all unweeting , seconded upon her husband ; saw their shame that sought vain covertures ; but when he saw descend the son of god to judge them , terrified he fled ; not hoping to escape , but shun the present ; fearing , guilty , what his wrath might suddenly inflict ; that past , returned by night , and listening where the hapless pair sat in their sad discourse , and various plaint , thence gathered his own doom ; which understood not instant , but of future time , with joy and tidings fraught , to hell he now returned ; and at the brink of chaos , near the foot of this new wonderous pontifice , unhoped met , who to meet him came , his offspring dear .\n",
      "i fled ; but he pursued ( though more , it seems , inflamed with lust than rage ), and , swifter far , me overtook , his mother , all dismayed , and , in embraces forcible and foul engendering with me , of that rape begot these yelling monsters , that with ceaseless cry surround me , as thou saw ' st -- hourly conceived and hourly born , with sorrow infinite to me ; for , when they list , into the womb that bred them they return , and howl , and gnaw my bowels , their repast ; then , bursting forth afresh , with conscious terrors vex me round , that rest or intermission none i find .\n",
      "\n",
      "Five Most Neutral Sentences:\n",
      "for whose well being so amply , and with hands so liberal , thou hast provided all things : but with me i see not who partakes .\n",
      "whereat the heart of adam , erst so sad , greatly rejoiced ; and thus his joy broke forth .\n",
      "but adam , with such counsel nothing swayed , to better hopes his more attentive mind labouring had raised ; and thus to eve replied .\n",
      "hail , infernal world !\n",
      "o father , what intends thy hand ,\" she cried , \" against thy only son ?\n",
      "\n",
      "Five Most Positive Sentences:\n",
      "now heaven in all her glory shone , and rolled her motions , as the great first mover ' s hand first wheeled their course : earth in her rich attire consummate lovely smiled ; air , water , earth , by fowl , fish , beast , was flown , was swum , was walked , frequent ; and of the sixth day yet remained : there wanted yet the master - work , the end of all yet done ; a creature , who , not prone and brute as other creatures , but endued with sanctity of reason , might erect his stature , and upright with front serene govern the rest , self - knowing ; and from thence magnanimous to correspond with heaven , but grateful to acknowledge whence his good descends , thither with heart , and voice , and eyes directed in devotion , to adore and worship god supreme , who made him chief of all his works : therefore the omnipotent eternal father ( for where is not he present ?)\n",
      "southward through eden went a river large , nor changed his course , but through the shaggy hill passed underneath ingulfed ; for god had thrown that mountain as his garden - mould high raised upon the rapid current , which , through veins of porous earth with kindly thirst up - drawn , rose a fresh fountain , and with many a rill watered the garden ; thence united fell down the steep glade , and met the nether flood , which from his darksome passage now appears , and now , divided into four main streams , runs diverse , wandering many a famous realm and country , whereof here needs no account ; but rather to tell how , if art could tell , how from that sapphire fount the crisped brooks , rolling on orient pearl and sands of gold , with mazy errour under pendant shades ran nectar , visiting each plant , and fed flowers worthy of paradise , which not nice art in beds and curious knots , but nature boon poured forth profuse on hill , and dale , and plain , both where the morning sun first warmly smote the open field , and where the unpierced shade imbrowned the noontide bowers : thus was this place a happy rural seat of various view ; groves whose rich trees wept odorous gums and balm , others whose fruit , burnished with golden rind , hung amiable , hesperian fables true , if true , here only , and of delicious taste : betwixt them lawns , or level downs , and flocks grazing the tender herb , were interposed , or palmy hillock ; or the flowery lap of some irriguous valley spread her store , flowers of all hue , and without thorn the rose : another side , umbrageous grots and caves of cool recess , o ' er which the mantling vine lays forth her purple grape , and gently creeps luxuriant ; mean while murmuring waters fall down the slope hills , dispersed , or in a lake , that to the fringed bank with myrtle crowned her crystal mirrour holds , unite their streams .\n",
      "mine eyes he closed , but open left the cell of fancy , my internal sight ; by which , abstract as in a trance , methought i saw , though sleeping , where i lay , and saw the shape still glorious before whom awake i stood : who stooping opened my left side , and took from thence a rib , with cordial spirits warm , and life - blood streaming fresh ; wide was the wound , but suddenly with flesh filled up and healed : the rib he formed and fashioned with his hands ; under his forming hands a creature grew , man - like , but different sex ; so lovely fair , that what seemed fair in all the world , seemed now mean , or in her summed up , in her contained and in her looks ; which from that time infused sweetness into my heart , unfelt before , and into all things from her air inspired the spirit of love and amorous delight .\n",
      "not that fair field of enna , where proserpine gathering flowers , herself a fairer flower by gloomy dis was gathered , which cost ceres all that pain to seek her through the world ; nor that sweet grove of daphne by orontes , and the inspired castalian spring , might with this paradise of eden strive ; nor that nyseian isle girt with the river triton , where old cham , whom gentiles ammon call and libyan jove , hid amalthea , and her florid son young bacchus , from his stepdame rhea ' s eye ; nor where abassin kings their issue guard , mount amara , though this by some supposed true paradise under the ethiop line by nilus ' head , enclosed with shining rock , a whole day ' s journey high , but wide remote from this assyrian garden , where the fiend saw , undelighted , all delight , all kind of living creatures , new to sight , and strange two of far nobler shape , erect and tall , godlike erect , with native honour clad in naked majesty seemed lords of all : and worthy seemed ; for in their looks divine the image of their glorious maker shone , truth , wisdom , sanctitude severe and pure , ( severe , but in true filial freedom placed ,) whence true authority in men ; though both not equal , as their sex not equal seemed ; for contemplation he and valour formed ; for softness she and sweet attractive grace ; he for god only , she for god in him : his fair large front and eye sublime declared absolute rule ; and hyacinthine locks round from his parted forelock manly hung clustering , but not beneath his shoulders broad : she , as a veil , down to the slender waist her unadorned golden tresses wore dishevelled , but in wanton ringlets waved as the vine curls her tendrils , which implied subjection , but required with gentle sway , and by her yielded , by him best received , yielded with coy submission , modest pride , and sweet , reluctant , amorous delay .\n",
      "round he surveys ( and well might , where he stood so high above the circling canopy of night ' s extended shade ,) from eastern point of libra to the fleecy star that bears andromeda far off atlantick seas beyond the horizon ; then from pole to pole he views in breadth , and without longer pause down right into the world ' s first region throws his flight precipitant , and winds with ease through the pure marble air his oblique way amongst innumerable stars , that shone stars distant , but nigh hand seemed other worlds ; or other worlds they seemed , or happy isles , like those hesperian gardens famed of old , fortunate fields , and groves , and flowery vales , thrice happy isles ; but who dwelt happy there he staid not to inquire : above them all the golden sun , in splendour likest heaven , allured his eye ; thither his course he bends through the calm firmament , ( but up or down , by center , or eccentrick , hard to tell , or longitude ,) where the great luminary aloof the vulgar constellations thick , that from his lordly eye keep distance due , dispenses light from far ; they , as they move their starry dance in numbers that compute days , months , and years , towards his all - cheering lamp turn swift their various motions , or are turned by his magnetick beam , that gently warms the universe , and to each inward part with gentle penetration , though unseen , shoots invisible virtue even to the deep ; so wonderously was set his station bright .\n"
     ]
    }
   ],
   "source": [
    "sentences = nltk.sent_tokenize(paradise_text)\n",
    "sentiment_scores = []\n",
    "for sentence in sentences:\n",
    "    sentiment_score = analyzer.polarity_scores(sentence)\n",
    "    sentiment_scores.append((sentence, sentiment_score['compound']))\n",
    "sentiment_scores.sort(key = lambda x: x[1])\n",
    "most_negative = sentiment_scores[:5]\n",
    "most_neutral = sentiment_scores[len(sentiment_scores)//2-2:len(sentiment_scores)//2+3]\n",
    "most_positive = sentiment_scores[-5:]\n",
    "\n",
    "print(\"Five Most Negative Sentences:\")\n",
    "for sentence, score in most_negative:\n",
    "    print(sentence)\n",
    "print(\"\\nFive Most Neutral Sentences:\")\n",
    "for sentence, score in most_neutral:\n",
    "    print(sentence) \n",
    "print(\"\\nFive Most Positive Sentences:\")\n",
    "for sentence, score in most_positive:\n",
    "    print(sentence)\n",
    "      "
   ]
  },
  {
   "cell_type": "markdown",
   "metadata": {},
   "source": [
    "* Given that paradise lost is an interpretation of the Bible with Milton's own interpretation of characters and plots I don't necessarily believe that the story is more neutral than anything else. With some research I found that paradise lost has a plot that centers around free will, fate, and destiny. I would not fit that under a neutral category, and I honestly believe negative and positive should both outweigh the neutral category. \n",
    "* With the sentences produced, I can understand why the sentiment analyzer would choose what it had considering it picks out key words, but I must disagree with some of the sentences already. Like \"Hail Infernal World\" would generally be seen as negative not neutral since infernal carries negative connotations \n",
    "* I think that if using a more advanced sentiment analyzer, the results would come out more accurate, but these results match up with the level of analyzer we are using in class. "
   ]
  },
  {
   "cell_type": "markdown",
   "metadata": {},
   "source": []
  }
 ],
 "metadata": {
  "kernelspec": {
   "display_name": "Python 3",
   "language": "python",
   "name": "python3"
  },
  "language_info": {
   "codemirror_mode": {
    "name": "ipython",
    "version": 3
   },
   "file_extension": ".py",
   "mimetype": "text/x-python",
   "name": "python",
   "nbconvert_exporter": "python",
   "pygments_lexer": "ipython3",
   "version": "3.10.13"
  }
 },
 "nbformat": 4,
 "nbformat_minor": 2
}
